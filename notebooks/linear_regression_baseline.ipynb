{
 "cells": [
  {
   "cell_type": "markdown",
   "id": "6fb955eb",
   "metadata": {},
   "source": [
    "# Predicting Insuarance on raw data using linear Regression"
   ]
  },
  {
   "cell_type": "code",
   "execution_count": 1,
   "id": "cfab0342",
   "metadata": {},
   "outputs": [],
   "source": [
    "import os\n",
    "import pandas as pd\n",
    "import numpy as np"
   ]
  },
  {
   "cell_type": "markdown",
   "id": "1e637ad4",
   "metadata": {},
   "source": [
    "### Loading Train and Test Data"
   ]
  },
  {
   "cell_type": "code",
   "execution_count": 2,
   "id": "11a82474",
   "metadata": {},
   "outputs": [
    {
     "name": "stdout",
     "output_type": "stream",
     "text": [
      "Loading datasets...\n",
      "Train shape: (1200000, 21), Test shape: (800000, 20)\n"
     ]
    }
   ],
   "source": [
    "from sklearn.compose import ColumnTransformer\n",
    "from sklearn.preprocessing import OneHotEncoder, StandardScaler\n",
    "from sklearn.impute import SimpleImputer\n",
    "from sklearn.pipeline import Pipeline\n",
    "from sklearn.linear_model import LinearRegression\n",
    "from sklearn.metrics import mean_absolute_error, root_mean_squared_error, r2_score\n",
    "import gc\n",
    "\n",
    "import matplotlib.pyplot as plt\n",
    "import seaborn as sns\n",
    "\n",
    "# Load separate train and test datasets\n",
    "TRAIN_PATH = \"../data/train.csv\"\n",
    "TEST_PATH = \"../data/test.csv\"\n",
    "\n",
    "print(\"Loading datasets...\")\n",
    "df_train = pd.read_csv(TRAIN_PATH)\n",
    "df_test = pd.read_csv(TEST_PATH)\n",
    "print(f\"Train shape: {df_train.shape}, Test shape: {df_test.shape}\")"
   ]
  },
  {
   "cell_type": "markdown",
   "id": "0aa0d923",
   "metadata": {},
   "source": [
    "### Preprocessing"
   ]
  },
  {
   "cell_type": "code",
   "execution_count": 3,
   "id": "859a1deb",
   "metadata": {},
   "outputs": [
    {
     "name": "stdout",
     "output_type": "stream",
     "text": [
      "\n",
      "⚠ Found 1,203,748 missing values in training features\n",
      "Top columns with missing values:\n",
      "Previous Claims         364029\n",
      "Occupation              358075\n",
      "Credit Score            137882\n",
      "Number of Dependents    109672\n",
      "Customer Feedback        77824\n",
      "dtype: int64\n",
      "\n",
      "Features: 9 numeric, 11 categorical\n",
      "Training samples: 1,200,000\n",
      "Test samples: 800,000\n"
     ]
    }
   ],
   "source": [
    "# Ensure training target exists\n",
    "TARGET_COL = \"Premium Amount\"\n",
    "if TARGET_COL not in df_train.columns:\n",
    "    raise RuntimeError(f\"Expected a '{TARGET_COL}' column in train.csv\")\n",
    "\n",
    "# Separate features/targets for train\n",
    "X_train = df_train.drop(columns=[TARGET_COL])\n",
    "y_train = df_train[TARGET_COL]\n",
    "\n",
    "# Check for missing values in target\n",
    "if y_train.isna().any():\n",
    "    print(f\"Warning: Found {y_train.isna().sum()} missing values in target. Removing those rows...\")\n",
    "    mask = ~y_train.isna()\n",
    "    X_train = X_train[mask]\n",
    "    y_train = y_train[mask]\n",
    "    print(f\"New training size: {len(X_train):,}\")\n",
    "\n",
    "del df_train  # Free memory\n",
    "gc.collect()\n",
    "\n",
    "# For test, check whether ground-truth target is provided\n",
    "if TARGET_COL in df_test.columns:\n",
    "    X_test = df_test.drop(columns=[TARGET_COL])\n",
    "    y_test = df_test[TARGET_COL]\n",
    "    has_test_target = True\n",
    "else:\n",
    "    X_test = df_test.copy()\n",
    "    y_test = None\n",
    "    has_test_target = False\n",
    "del df_test  # Free memory\n",
    "gc.collect()\n",
    "\n",
    "# Identify numeric and categorical columns from training features\n",
    "numeric_cols = X_train.select_dtypes(include=[\"int64\", \"float64\"]).columns.tolist()\n",
    "categorical_cols = X_train.select_dtypes(include=[\"object\", \"category\"]).columns.tolist()\n",
    "\n",
    "# Check for missing values\n",
    "missing_train = X_train.isnull().sum()\n",
    "if missing_train.sum() > 0:\n",
    "    print(f\"\\n⚠ Found {missing_train.sum():,} missing values in training features\")\n",
    "    print(\"Top columns with missing values:\")\n",
    "    print(missing_train[missing_train > 0].sort_values(ascending=False).head())\n",
    "\n",
    "print(f\"\\nFeatures: {len(numeric_cols)} numeric, {len(categorical_cols)} categorical\")\n",
    "print(f\"Training samples: {len(X_train):,}\")\n",
    "print(f\"Test samples: {len(X_test):,}\")"
   ]
  },
  {
   "cell_type": "markdown",
   "id": "18fa444c",
   "metadata": {},
   "source": [
    "### Preprocessing pipelines with imputation"
   ]
  },
  {
   "cell_type": "code",
   "execution_count": 4,
   "id": "3064e06e",
   "metadata": {},
   "outputs": [],
   "source": [
    "numeric_transformer = Pipeline(steps=[\n",
    "    ('imputer', SimpleImputer(strategy='median')),  # Fill missing numeric values with median\n",
    "    ('scaler', StandardScaler())\n",
    "])\n",
    "\n",
    "categorical_transformer = Pipeline(steps=[\n",
    "    ('imputer', SimpleImputer(strategy='constant', fill_value='missing')),  # Fill missing categorical with 'missing'\n",
    "    ('onehot', OneHotEncoder(handle_unknown='ignore', sparse_output=True, dtype=np.float32))\n",
    "])\n",
    "\n",
    "# Combine preprocessing steps\n",
    "preprocessor = ColumnTransformer(\n",
    "    transformers=[\n",
    "        ('num', numeric_transformer, numeric_cols),\n",
    "        ('cat', categorical_transformer, categorical_cols)\n",
    "    ],\n",
    "    remainder='drop',\n",
    "    sparse_threshold=0.3\n",
    ")"
   ]
  },
  {
   "cell_type": "markdown",
   "id": "093a55b8",
   "metadata": {},
   "source": [
    "### Pipeline with Linear Regression"
   ]
  },
  {
   "cell_type": "code",
   "execution_count": 5,
   "id": "c600ad21",
   "metadata": {},
   "outputs": [
    {
     "name": "stdout",
     "output_type": "stream",
     "text": [
      "\n",
      "============================================================\n",
      "Training linear regression model...\n",
      "This may take a few minutes with large datasets...\n",
      "============================================================\n",
      "✓ Training complete!\n"
     ]
    },
    {
     "data": {
      "text/plain": [
       "23"
      ]
     },
     "execution_count": 5,
     "metadata": {},
     "output_type": "execute_result"
    }
   ],
   "source": [
    "# Pipeline with linear regression\n",
    "pipeline = Pipeline(steps=[\n",
    "    ('preprocessor', preprocessor), \n",
    "    ('regressor', LinearRegression(n_jobs=-1))  # Use all CPU cores\n",
    "])\n",
    "\n",
    "# Fit on training data\n",
    "print(\"\\n\" + \"=\"*60)\n",
    "print(\"Training linear regression model...\")\n",
    "print(\"This may take a few minutes with large datasets...\")\n",
    "print(\"=\"*60)\n",
    "\n",
    "pipeline.fit(X_train, y_train)\n",
    "print(\"✓ Training complete!\")\n",
    "\n",
    "# Free memory after training\n",
    "del X_train, y_train\n",
    "gc.collect()"
   ]
  },
  {
   "cell_type": "markdown",
   "id": "92bb2c11",
   "metadata": {},
   "source": [
    "### Generate predictions on test set"
   ]
  },
  {
   "cell_type": "code",
   "execution_count": 6,
   "id": "1cb8468c",
   "metadata": {},
   "outputs": [
    {
     "name": "stdout",
     "output_type": "stream",
     "text": [
      "\n",
      "Generating predictions on test set...\n",
      "Predictions complete!\n"
     ]
    }
   ],
   "source": [
    "print(\"\\nGenerating predictions on test set...\")\n",
    "y_pred = pipeline.predict(X_test)\n",
    "print(\"Predictions complete!\")"
   ]
  },
  {
   "cell_type": "markdown",
   "id": "2bc2a78b",
   "metadata": {},
   "source": [
    "### Test Set Results & Metrics"
   ]
  },
  {
   "cell_type": "code",
   "execution_count": 7,
   "id": "3b5a9d85",
   "metadata": {},
   "outputs": [
    {
     "name": "stdout",
     "output_type": "stream",
     "text": [
      "\n",
      "Saving predictions to CSV...\n",
      "\n",
      "✓ Test set does not contain 'Premium Amount'.\n",
      "✓ Predictions saved to: ../data/predictions_linear_regression.csv\n",
      "\n",
      "============================================================\n",
      "                 PREDICTION STATISTICS\n",
      "============================================================\n",
      "  Min  : $     -214.55\n",
      "  Max  : $    5,089.86\n",
      "  Mean : $    1,101.76\n",
      "  Std  : $      366.73\n",
      "============================================================\n"
     ]
    },
    {
     "data": {
      "image/png": "[encoded data removed]",
      "text/plain": [
       "<Figure size 1000x500 with 1 Axes>"
      ]
     },
     "metadata": {},
     "output_type": "display_data"
    },
    {
     "name": "stdout",
     "output_type": "stream",
     "text": [
      "\n",
      "✓ All done!\n"
     ]
    }
   ],
   "source": [
    "\n",
    "# Ensure predictions are numpy arrays to avoid attribute issues (e.g., tuple vs array)\n",
    "# Force float64 so sklearn metrics receive a proper ndarray type\n",
    "y_pred = np.asarray(y_pred, dtype=np.float64)\n",
    "\n",
    "# If test ground-truth is available, compute metrics\n",
    "if has_test_target:\n",
    "    # reassure the type-checker that y_test is not None\n",
    "    assert y_test is not None\n",
    "\n",
    "    # Convert y_test to a 1D numpy float64 array for consistent indexing / math.\n",
    "    # Prefer pandas' to_numpy when available, fall back to values or np.asarray,\n",
    "    # then ravel to ensure a 1-D shape.\n",
    "    if hasattr(y_test, \"to_numpy\"):\n",
    "        y_test_arr = y_test.to_numpy(dtype=np.float64)\n",
    "    elif hasattr(y_test, \"values\"):\n",
    "        y_test_arr = np.asarray(y_test.values, dtype=np.float64)\n",
    "    else:\n",
    "        y_test_arr = np.asarray(y_test, dtype=np.float64)\n",
    "\n",
    "    # Ensure it's a 1-D float64 ndarray (no ExtensionArray or pandas-backed array)\n",
    "    y_test_arr = np.ravel(y_test_arr).astype(np.float64, copy=False)\n",
    "\n",
    "    mae = mean_absolute_error(y_test_arr, y_pred)\n",
    "    # Compute RMSE directly using numpy to avoid relying on a function that may not be available.\n",
    "    rmse = np.sqrt(np.mean((y_test_arr - y_pred) ** 2))\n",
    "    r2 = r2_score(y_test_arr, y_pred)\n",
    "    \n",
    "    # Avoid divide-by-zero in MAPE by masking zeros (use numpy mask)\n",
    "    mask = (y_test_arr != 0)\n",
    "    if mask.sum() > 0:\n",
    "        mape = np.mean(np.abs((y_test_arr[mask] - y_pred[mask]) / y_test_arr[mask])) * 100\n",
    "    else:\n",
    "        mape = float('nan')\n",
    "\n",
    "    print(\"\\n\" + \"=\"*60)\n",
    "    print(\"                    TEST SET RESULTS\")\n",
    "    print(\"=\"*60)\n",
    "    print(f\"  MAE  (Mean Absolute Error)    : ${mae:,.2f}\")\n",
    "    print(f\"  RMSE (Root Mean Squared Error): ${rmse:,.2f}\")\n",
    "    print(f\"  R²   (R-squared)              : {r2:.4f}\")\n",
    "    print(f\"  MAPE (Mean Abs % Error)       : {mape:.2f}%\")\n",
    "    print(\"=\"*60)\n",
    "\n",
    "    # Sample data for plotting (to avoid memory issues with large scatter plots)\n",
    "    sample_size = min(10000, len(y_test_arr))\n",
    "    sample_idx = np.random.choice(len(y_test_arr), sample_size, replace=False)\n",
    "    # Use numpy arrays for the samples\n",
    "    y_test_sample = y_test_arr[sample_idx]\n",
    "    y_pred_sample = y_pred[sample_idx]\n",
    "\n",
    "    # Plots comparing actual vs predicted\n",
    "    plt.figure(figsize=(14,5))\n",
    "    \n",
    "    plt.subplot(1,2,1)\n",
    "    sns.scatterplot(x=y_test_sample, y=y_pred_sample, alpha=0.4, s=15)\n",
    "    plt.plot([y_test_arr.min(), y_test_arr.max()], [y_test_arr.min(), y_test_arr.max()], \"r--\", linewidth=2, label=\"Perfect Prediction\")\n",
    "    plt.xlabel(\"Actual Premium Amount ($)\", fontsize=11)\n",
    "    plt.ylabel(\"Predicted Premium Amount ($)\", fontsize=11)\n",
    "    plt.title(f\"Actual vs Predicted (showing {sample_size:,} samples)\", fontsize=12, fontweight='bold')\n",
    "    plt.legend()\n",
    "    plt.grid(True, alpha=0.3)\n",
    "\n",
    "    plt.subplot(1,2,2)\n",
    "    residuals = y_test_arr - y_pred\n",
    "    sns.histplot(residuals, kde=True, bins=50)\n",
    "    plt.xlabel(\"Residuals (Actual - Predicted)\", fontsize=11)\n",
    "    plt.ylabel(\"Frequency\", fontsize=11)\n",
    "    plt.title(\"Residual Distribution\", fontsize=12, fontweight='bold')\n",
    "    plt.axvline(x=0, color='r', linestyle='--', linewidth=2, label='Zero Error')\n",
    "    plt.legend()\n",
    "    plt.grid(True, alpha=0.3)\n",
    "\n",
    "    plt.tight_layout()\n",
    "    plt.show()\n",
    "else:\n",
    "    \n",
    "    # No ground truth in test set: save predictions to CSV for submission\n",
    "    print(\"\\nSaving predictions to CSV...\")\n",
    "    submission = pd.DataFrame({\n",
    "        'id': X_test['id'] if 'id' in X_test.columns else range(len(X_test)),\n",
    "        'predicted_premium_amount': y_pred\n",
    "    })\n",
    "    out_path = '../data/predictions_linear_regression.csv'\n",
    "    submission.to_csv(out_path, index=False)\n",
    "    \n",
    "    print(f\"\\n✓ Test set does not contain '{TARGET_COL}'.\")\n",
    "    print(f\"✓ Predictions saved to: {out_path}\")\n",
    "    print(f\"\\n\" + \"=\"*60)\n",
    "    print(\"                 PREDICTION STATISTICS\")\n",
    "    print(\"=\"*60)\n",
    "    # Use numpy functions on the array to avoid attribute errors\n",
    "    print(f\"  Min  : ${np.min(y_pred):>12,.2f}\")\n",
    "    print(f\"  Max  : ${np.max(y_pred):>12,.2f}\")\n",
    "    print(f\"  Mean : ${np.mean(y_pred):>12,.2f}\")\n",
    "    print(f\"  Std  : ${np.std(y_pred):>12,.2f}\")\n",
    "    print(\"=\"*60)\n",
    "    \n",
    "    # Simple histogram of predictions\n",
    "    plt.figure(figsize=(10, 5))\n",
    "    plt.hist(y_pred, bins=50, edgecolor='black', alpha=0.7)\n",
    "    plt.xlabel('Predicted Premium Amount ($)', fontsize=11)\n",
    "    plt.ylabel('Frequency', fontsize=11)\n",
    "    plt.title('Distribution of Predicted Premium Amounts', fontsize=12, fontweight='bold')\n",
    "    # Cast numpy scalar to native float to satisfy type-checkers that expect float\n",
    "    mean_pred = float(np.mean(y_pred))\n",
    "    plt.axvline(mean_pred, color='r', linestyle='--', linewidth=2, label=f'Mean: ${mean_pred:.2f}')\n",
    "    plt.legend()\n",
    "    plt.grid(True, alpha=0.3)\n",
    "    plt.tight_layout()\n",
    "    plt.show()\n",
    "    \n",
    "print(\"\\n✓ All done!\")"
   ]
  },
  {
   "cell_type": "markdown",
   "id": "d69f38e5",
   "metadata": {},
   "source": [
    "### MODEL ACCURACY METRICS - Training Set Evaluation"
   ]
  },
  {
   "cell_type": "code",
   "execution_count": 8,
   "id": "c4ec9f75",
   "metadata": {},
   "outputs": [
    {
     "name": "stdout",
     "output_type": "stream",
     "text": [
      "Loading training data for accuracy evaluation...\n",
      "Generating predictions on 1,200,000 training samples...\n",
      "\n",
      "===========================================================================\n",
      "======================== MODEL PERFORMANCE METRICS ========================\n",
      "===========================================================================\n",
      "\n",
      " R² Score: 15.19%\n",
      "   ➜ Model explains 15.19% of the variance in premium amounts\n",
      "\n",
      " Explained Variance Score: 15.19%\n",
      "\n",
      " Mean Absolute Error (MAE): $607.72\n",
      "   ➜ Average prediction error is $607.72\n",
      "\n",
      " Root Mean Squared Error (RMSE): $796.59\n",
      "   ➜ Typical prediction deviation is $796.59\n",
      "\n",
      " Mean Absolute Percentage Error (MAPE): 261.54%\n",
      "   ➜ Average error is 261.54% of actual premium amounts\n",
      "===========================================================================\n",
      "\n",
      " POOR Model Performance - Linear Regression is inadequate\n",
      "===========================================================================\n"
     ]
    }
   ],
   "source": [
    "# =============================================================================\n",
    "from sklearn.metrics import mean_absolute_error, mean_squared_error, r2_score, explained_variance_score\n",
    "\n",
    "print(\"Loading training data for accuracy evaluation...\")\n",
    "df_train_eval = pd.read_csv(TRAIN_PATH)\n",
    "df_train_eval = df_train_eval.dropna(subset=[TARGET_COL])\n",
    "X_train_eval = df_train_eval.drop(columns=[TARGET_COL])\n",
    "y_train_eval = df_train_eval[TARGET_COL]\n",
    "\n",
    "print(f\"Generating predictions on {len(y_train_eval):,} training samples...\")\n",
    "y_train_pred = pipeline.predict(X_train_eval)\n",
    "\n",
    "# If predict returned a tuple (some custom models) take first element\n",
    "if isinstance(y_train_pred, tuple):\n",
    "    y_train_pred = y_train_pred[0]\n",
    "\n",
    "# Ensure numpy 1-D float arrays for consistent arithmetic / metrics\n",
    "y_train_pred = np.asarray(y_train_pred, dtype=np.float64).ravel()\n",
    "if hasattr(y_train_eval, \"to_numpy\"):\n",
    "    y_train_arr = y_train_eval.to_numpy(dtype=np.float64)\n",
    "else:\n",
    "    y_train_arr = np.asarray(y_train_eval, dtype=np.float64)\n",
    "y_train_arr = np.ravel(y_train_arr).astype(np.float64, copy=False)\n",
    "\n",
    "# Calculate all metrics (use the numpy arrays)\n",
    "mae = mean_absolute_error(y_train_arr, y_train_pred)\n",
    "rmse = np.sqrt(mean_squared_error(y_train_arr, y_train_pred))\n",
    "r2 = r2_score(y_train_arr, y_train_pred)\n",
    "\n",
    "# Avoid divide-by-zero for MAPE\n",
    "mask = (y_train_arr != 0)\n",
    "if mask.sum() > 0:\n",
    "    mape = np.mean(np.abs((y_train_arr[mask] - y_train_pred[mask]) / y_train_arr[mask])) * 100\n",
    "else:\n",
    "    mape = float('nan')\n",
    "\n",
    "explained_var = explained_variance_score(y_train_arr, y_train_pred)\n",
    "\n",
    "# Display results\n",
    "print(\"\\n\" + \"=\"*75)\n",
    "print(\" MODEL PERFORMANCE METRICS \".center(75, \"=\"))\n",
    "print(\"=\"*75)\n",
    "print(f\"\\n R² Score: {r2*100:.2f}%\")\n",
    "print(f\"   ➜ Model explains {r2*100:.2f}% of the variance in premium amounts\")\n",
    "print(f\"\\n Explained Variance Score: {explained_var*100:.2f}%\")\n",
    "print(f\"\\n Mean Absolute Error (MAE): ${mae:,.2f}\")\n",
    "print(f\"   ➜ Average prediction error is ${mae:,.2f}\")\n",
    "print(f\"\\n Root Mean Squared Error (RMSE): ${rmse:,.2f}\")\n",
    "print(f\"   ➜ Typical prediction deviation is ${rmse:,.2f}\")\n",
    "\n",
    "if not np.isnan(mape):\n",
    "    print(f\"\\n Mean Absolute Percentage Error (MAPE): {mape:.2f}%\")\n",
    "    print(f\"   ➜ Average error is {mape:.2f}% of actual premium amounts\")\n",
    "else:\n",
    "    print(f\"\\n Mean Absolute Percentage Error (MAPE): N/A\")\n",
    "    print(f\"   ➜ MAPE undefined due to zero values in targets\")\n",
    "    \n",
    "print(\"=\"*75)\n",
    "\n",
    "if r2 >= 0.9:\n",
    "    print(\"\\n EXCELLENT Model Performance!\")\n",
    "elif r2 >= 0.7:\n",
    "    print(\"\\n GOOD Model Performance\")\n",
    "elif r2 >= 0.5:\n",
    "    print(\"\\n  MODERATE Model Performance\")\n",
    "else:\n",
    "    print(\"\\n POOR Model Performance - Linear Regression is inadequate\")\n",
    "print(\"=\"*75)"
   ]
  }
 ],
 "metadata": {
  "kernelspec": {
   "display_name": "Python 3",
   "language": "python",
   "name": "python3"
  },
  "language_info": {
   "codemirror_mode": {
    "name": "ipython",
    "version": 3
   },
   "file_extension": ".py",
   "mimetype": "text/x-python",
   "name": "python",
   "nbconvert_exporter": "python",
   "pygments_lexer": "ipython3",
   "version": "3.12.8"
  }
 },
 "nbformat": 4,
 "nbformat_minor": 5
}
