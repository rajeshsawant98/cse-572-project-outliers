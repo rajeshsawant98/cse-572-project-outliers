{
 "cells": [
  {
   "cell_type": "code",
   "execution_count": 68,
   "id": "83e978ac",
   "metadata": {},
   "outputs": [],
   "source": [
    "import pandas as pd"
   ]
  },
  {
   "cell_type": "code",
   "execution_count": 69,
   "id": "daac6003",
   "metadata": {},
   "outputs": [],
   "source": [
    "df = pd.read_csv('../data/train.csv')"
   ]
  },
  {
   "cell_type": "code",
   "execution_count": 70,
   "id": "f15ed9bd",
   "metadata": {},
   "outputs": [
    {
     "data": {
      "text/html": [
       "<div>\n",
       "<style scoped>\n",
       "    .dataframe tbody tr th:only-of-type {\n",
       "        vertical-align: middle;\n",
       "    }\n",
       "\n",
       "    .dataframe tbody tr th {\n",
       "        vertical-align: top;\n",
       "    }\n",
       "\n",
       "    .dataframe thead th {\n",
       "        text-align: right;\n",
       "    }\n",
       "</style>\n",
       "<table border=\"1\" class=\"dataframe\">\n",
       "  <thead>\n",
       "    <tr style=\"text-align: right;\">\n",
       "      <th></th>\n",
       "      <th>id</th>\n",
       "      <th>Age</th>\n",
       "      <th>Gender</th>\n",
       "      <th>Annual Income</th>\n",
       "      <th>Marital Status</th>\n",
       "      <th>Number of Dependents</th>\n",
       "      <th>Education Level</th>\n",
       "      <th>Occupation</th>\n",
       "      <th>Health Score</th>\n",
       "      <th>Location</th>\n",
       "      <th>...</th>\n",
       "      <th>Previous Claims</th>\n",
       "      <th>Vehicle Age</th>\n",
       "      <th>Credit Score</th>\n",
       "      <th>Insurance Duration</th>\n",
       "      <th>Policy Start Date</th>\n",
       "      <th>Customer Feedback</th>\n",
       "      <th>Smoking Status</th>\n",
       "      <th>Exercise Frequency</th>\n",
       "      <th>Property Type</th>\n",
       "      <th>Premium Amount</th>\n",
       "    </tr>\n",
       "  </thead>\n",
       "  <tbody>\n",
       "    <tr>\n",
       "      <th>0</th>\n",
       "      <td>0</td>\n",
       "      <td>19.0</td>\n",
       "      <td>Female</td>\n",
       "      <td>10049.0</td>\n",
       "      <td>Married</td>\n",
       "      <td>1.0</td>\n",
       "      <td>Bachelor's</td>\n",
       "      <td>Self-Employed</td>\n",
       "      <td>22.598761</td>\n",
       "      <td>Urban</td>\n",
       "      <td>...</td>\n",
       "      <td>2.0</td>\n",
       "      <td>17.0</td>\n",
       "      <td>372.0</td>\n",
       "      <td>5.0</td>\n",
       "      <td>2023-12-23 15:21:39.134960</td>\n",
       "      <td>Poor</td>\n",
       "      <td>No</td>\n",
       "      <td>Weekly</td>\n",
       "      <td>House</td>\n",
       "      <td>2869.0</td>\n",
       "    </tr>\n",
       "    <tr>\n",
       "      <th>1</th>\n",
       "      <td>1</td>\n",
       "      <td>39.0</td>\n",
       "      <td>Female</td>\n",
       "      <td>31678.0</td>\n",
       "      <td>Divorced</td>\n",
       "      <td>3.0</td>\n",
       "      <td>Master's</td>\n",
       "      <td>NaN</td>\n",
       "      <td>15.569731</td>\n",
       "      <td>Rural</td>\n",
       "      <td>...</td>\n",
       "      <td>1.0</td>\n",
       "      <td>12.0</td>\n",
       "      <td>694.0</td>\n",
       "      <td>2.0</td>\n",
       "      <td>2023-06-12 15:21:39.111551</td>\n",
       "      <td>Average</td>\n",
       "      <td>Yes</td>\n",
       "      <td>Monthly</td>\n",
       "      <td>House</td>\n",
       "      <td>1483.0</td>\n",
       "    </tr>\n",
       "    <tr>\n",
       "      <th>2</th>\n",
       "      <td>2</td>\n",
       "      <td>23.0</td>\n",
       "      <td>Male</td>\n",
       "      <td>25602.0</td>\n",
       "      <td>Divorced</td>\n",
       "      <td>3.0</td>\n",
       "      <td>High School</td>\n",
       "      <td>Self-Employed</td>\n",
       "      <td>47.177549</td>\n",
       "      <td>Suburban</td>\n",
       "      <td>...</td>\n",
       "      <td>1.0</td>\n",
       "      <td>14.0</td>\n",
       "      <td>NaN</td>\n",
       "      <td>3.0</td>\n",
       "      <td>2023-09-30 15:21:39.221386</td>\n",
       "      <td>Good</td>\n",
       "      <td>Yes</td>\n",
       "      <td>Weekly</td>\n",
       "      <td>House</td>\n",
       "      <td>567.0</td>\n",
       "    </tr>\n",
       "    <tr>\n",
       "      <th>3</th>\n",
       "      <td>3</td>\n",
       "      <td>21.0</td>\n",
       "      <td>Male</td>\n",
       "      <td>141855.0</td>\n",
       "      <td>Married</td>\n",
       "      <td>2.0</td>\n",
       "      <td>Bachelor's</td>\n",
       "      <td>NaN</td>\n",
       "      <td>10.938144</td>\n",
       "      <td>Rural</td>\n",
       "      <td>...</td>\n",
       "      <td>1.0</td>\n",
       "      <td>0.0</td>\n",
       "      <td>367.0</td>\n",
       "      <td>1.0</td>\n",
       "      <td>2024-06-12 15:21:39.226954</td>\n",
       "      <td>Poor</td>\n",
       "      <td>Yes</td>\n",
       "      <td>Daily</td>\n",
       "      <td>Apartment</td>\n",
       "      <td>765.0</td>\n",
       "    </tr>\n",
       "    <tr>\n",
       "      <th>4</th>\n",
       "      <td>4</td>\n",
       "      <td>21.0</td>\n",
       "      <td>Male</td>\n",
       "      <td>39651.0</td>\n",
       "      <td>Single</td>\n",
       "      <td>1.0</td>\n",
       "      <td>Bachelor's</td>\n",
       "      <td>Self-Employed</td>\n",
       "      <td>20.376094</td>\n",
       "      <td>Rural</td>\n",
       "      <td>...</td>\n",
       "      <td>0.0</td>\n",
       "      <td>8.0</td>\n",
       "      <td>598.0</td>\n",
       "      <td>4.0</td>\n",
       "      <td>2021-12-01 15:21:39.252145</td>\n",
       "      <td>Poor</td>\n",
       "      <td>Yes</td>\n",
       "      <td>Weekly</td>\n",
       "      <td>House</td>\n",
       "      <td>2022.0</td>\n",
       "    </tr>\n",
       "  </tbody>\n",
       "</table>\n",
       "<p>5 rows × 21 columns</p>\n",
       "</div>"
      ],
      "text/plain": [
       "   id   Age  Gender  Annual Income Marital Status  Number of Dependents  \\\n",
       "0   0  19.0  Female        10049.0        Married                   1.0   \n",
       "1   1  39.0  Female        31678.0       Divorced                   3.0   \n",
       "2   2  23.0    Male        25602.0       Divorced                   3.0   \n",
       "3   3  21.0    Male       141855.0        Married                   2.0   \n",
       "4   4  21.0    Male        39651.0         Single                   1.0   \n",
       "\n",
       "  Education Level     Occupation  Health Score  Location  ... Previous Claims  \\\n",
       "0      Bachelor's  Self-Employed     22.598761     Urban  ...             2.0   \n",
       "1        Master's            NaN     15.569731     Rural  ...             1.0   \n",
       "2     High School  Self-Employed     47.177549  Suburban  ...             1.0   \n",
       "3      Bachelor's            NaN     10.938144     Rural  ...             1.0   \n",
       "4      Bachelor's  Self-Employed     20.376094     Rural  ...             0.0   \n",
       "\n",
       "   Vehicle Age  Credit Score  Insurance Duration           Policy Start Date  \\\n",
       "0         17.0         372.0                 5.0  2023-12-23 15:21:39.134960   \n",
       "1         12.0         694.0                 2.0  2023-06-12 15:21:39.111551   \n",
       "2         14.0           NaN                 3.0  2023-09-30 15:21:39.221386   \n",
       "3          0.0         367.0                 1.0  2024-06-12 15:21:39.226954   \n",
       "4          8.0         598.0                 4.0  2021-12-01 15:21:39.252145   \n",
       "\n",
       "  Customer Feedback Smoking Status Exercise Frequency Property Type  \\\n",
       "0              Poor             No             Weekly         House   \n",
       "1           Average            Yes            Monthly         House   \n",
       "2              Good            Yes             Weekly         House   \n",
       "3              Poor            Yes              Daily     Apartment   \n",
       "4              Poor            Yes             Weekly         House   \n",
       "\n",
       "  Premium Amount  \n",
       "0         2869.0  \n",
       "1         1483.0  \n",
       "2          567.0  \n",
       "3          765.0  \n",
       "4         2022.0  \n",
       "\n",
       "[5 rows x 21 columns]"
      ]
     },
     "execution_count": 70,
     "metadata": {},
     "output_type": "execute_result"
    }
   ],
   "source": [
    "df.head()"
   ]
  },
  {
   "cell_type": "markdown",
   "id": "a8e25d41",
   "metadata": {},
   "source": [
    "## Data Shape"
   ]
  },
  {
   "cell_type": "code",
   "execution_count": 71,
   "id": "8f48a887",
   "metadata": {},
   "outputs": [
    {
     "data": {
      "text/plain": [
       "(1200000, 21)"
      ]
     },
     "execution_count": 71,
     "metadata": {},
     "output_type": "execute_result"
    }
   ],
   "source": [
    "df.shape"
   ]
  },
  {
   "cell_type": "markdown",
   "id": "31a72ba7",
   "metadata": {},
   "source": [
    "### Data Types & Non-Null Counts"
   ]
  },
  {
   "cell_type": "code",
   "execution_count": 72,
   "id": "b2dd083c",
   "metadata": {},
   "outputs": [
    {
     "name": "stdout",
     "output_type": "stream",
     "text": [
      "<class 'pandas.core.frame.DataFrame'>\n",
      "RangeIndex: 1200000 entries, 0 to 1199999\n",
      "Data columns (total 21 columns):\n",
      " #   Column                Non-Null Count    Dtype  \n",
      "---  ------                --------------    -----  \n",
      " 0   id                    1200000 non-null  int64  \n",
      " 1   Age                   1181295 non-null  float64\n",
      " 2   Gender                1200000 non-null  object \n",
      " 3   Annual Income         1155051 non-null  float64\n",
      " 4   Marital Status        1181471 non-null  object \n",
      " 5   Number of Dependents  1090328 non-null  float64\n",
      " 6   Education Level       1200000 non-null  object \n",
      " 7   Occupation            841925 non-null   object \n",
      " 8   Health Score          1125924 non-null  float64\n",
      " 9   Location              1200000 non-null  object \n",
      " 10  Policy Type           1200000 non-null  object \n",
      " 11  Previous Claims       835971 non-null   float64\n",
      " 12  Vehicle Age           1199994 non-null  float64\n",
      " 13  Credit Score          1062118 non-null  float64\n",
      " 14  Insurance Duration    1199999 non-null  float64\n",
      " 15  Policy Start Date     1200000 non-null  object \n",
      " 16  Customer Feedback     1122176 non-null  object \n",
      " 17  Smoking Status        1200000 non-null  object \n",
      " 18  Exercise Frequency    1200000 non-null  object \n",
      " 19  Property Type         1200000 non-null  object \n",
      " 20  Premium Amount        1200000 non-null  float64\n",
      "dtypes: float64(9), int64(1), object(11)\n",
      "memory usage: 192.3+ MB\n"
     ]
    }
   ],
   "source": [
    "df.info()"
   ]
  },
  {
   "cell_type": "markdown",
   "id": "1f7f2e8a",
   "metadata": {},
   "source": []
  },
  {
   "cell_type": "code",
   "execution_count": 73,
   "id": "232950f1",
   "metadata": {},
   "outputs": [
    {
     "data": {
      "text/html": [
       "<div>\n",
       "<style scoped>\n",
       "    .dataframe tbody tr th:only-of-type {\n",
       "        vertical-align: middle;\n",
       "    }\n",
       "\n",
       "    .dataframe tbody tr th {\n",
       "        vertical-align: top;\n",
       "    }\n",
       "\n",
       "    .dataframe thead th {\n",
       "        text-align: right;\n",
       "    }\n",
       "</style>\n",
       "<table border=\"1\" class=\"dataframe\">\n",
       "  <thead>\n",
       "    <tr style=\"text-align: right;\">\n",
       "      <th></th>\n",
       "      <th>id</th>\n",
       "      <th>Age</th>\n",
       "      <th>Annual Income</th>\n",
       "      <th>Number of Dependents</th>\n",
       "      <th>Health Score</th>\n",
       "      <th>Previous Claims</th>\n",
       "      <th>Vehicle Age</th>\n",
       "      <th>Credit Score</th>\n",
       "      <th>Insurance Duration</th>\n",
       "      <th>Premium Amount</th>\n",
       "    </tr>\n",
       "  </thead>\n",
       "  <tbody>\n",
       "    <tr>\n",
       "      <th>count</th>\n",
       "      <td>1.200000e+06</td>\n",
       "      <td>1.181295e+06</td>\n",
       "      <td>1.155051e+06</td>\n",
       "      <td>1.090328e+06</td>\n",
       "      <td>1.125924e+06</td>\n",
       "      <td>835971.000000</td>\n",
       "      <td>1.199994e+06</td>\n",
       "      <td>1.062118e+06</td>\n",
       "      <td>1.199999e+06</td>\n",
       "      <td>1.200000e+06</td>\n",
       "    </tr>\n",
       "    <tr>\n",
       "      <th>mean</th>\n",
       "      <td>5.999995e+05</td>\n",
       "      <td>4.114556e+01</td>\n",
       "      <td>3.274522e+04</td>\n",
       "      <td>2.009934e+00</td>\n",
       "      <td>2.561391e+01</td>\n",
       "      <td>1.002689</td>\n",
       "      <td>9.569889e+00</td>\n",
       "      <td>5.929244e+02</td>\n",
       "      <td>5.018219e+00</td>\n",
       "      <td>1.102545e+03</td>\n",
       "    </tr>\n",
       "    <tr>\n",
       "      <th>std</th>\n",
       "      <td>3.464103e+05</td>\n",
       "      <td>1.353995e+01</td>\n",
       "      <td>3.217951e+04</td>\n",
       "      <td>1.417338e+00</td>\n",
       "      <td>1.220346e+01</td>\n",
       "      <td>0.982840</td>\n",
       "      <td>5.776189e+00</td>\n",
       "      <td>1.499819e+02</td>\n",
       "      <td>2.594331e+00</td>\n",
       "      <td>8.649989e+02</td>\n",
       "    </tr>\n",
       "    <tr>\n",
       "      <th>min</th>\n",
       "      <td>0.000000e+00</td>\n",
       "      <td>1.800000e+01</td>\n",
       "      <td>1.000000e+00</td>\n",
       "      <td>0.000000e+00</td>\n",
       "      <td>2.012237e+00</td>\n",
       "      <td>0.000000</td>\n",
       "      <td>0.000000e+00</td>\n",
       "      <td>3.000000e+02</td>\n",
       "      <td>1.000000e+00</td>\n",
       "      <td>2.000000e+01</td>\n",
       "    </tr>\n",
       "    <tr>\n",
       "      <th>25%</th>\n",
       "      <td>2.999998e+05</td>\n",
       "      <td>3.000000e+01</td>\n",
       "      <td>8.001000e+03</td>\n",
       "      <td>1.000000e+00</td>\n",
       "      <td>1.591896e+01</td>\n",
       "      <td>0.000000</td>\n",
       "      <td>5.000000e+00</td>\n",
       "      <td>4.680000e+02</td>\n",
       "      <td>3.000000e+00</td>\n",
       "      <td>5.140000e+02</td>\n",
       "    </tr>\n",
       "    <tr>\n",
       "      <th>50%</th>\n",
       "      <td>5.999995e+05</td>\n",
       "      <td>4.100000e+01</td>\n",
       "      <td>2.391100e+04</td>\n",
       "      <td>2.000000e+00</td>\n",
       "      <td>2.457865e+01</td>\n",
       "      <td>1.000000</td>\n",
       "      <td>1.000000e+01</td>\n",
       "      <td>5.950000e+02</td>\n",
       "      <td>5.000000e+00</td>\n",
       "      <td>8.720000e+02</td>\n",
       "    </tr>\n",
       "    <tr>\n",
       "      <th>75%</th>\n",
       "      <td>8.999992e+05</td>\n",
       "      <td>5.300000e+01</td>\n",
       "      <td>4.463400e+04</td>\n",
       "      <td>3.000000e+00</td>\n",
       "      <td>3.452721e+01</td>\n",
       "      <td>2.000000</td>\n",
       "      <td>1.500000e+01</td>\n",
       "      <td>7.210000e+02</td>\n",
       "      <td>7.000000e+00</td>\n",
       "      <td>1.509000e+03</td>\n",
       "    </tr>\n",
       "    <tr>\n",
       "      <th>max</th>\n",
       "      <td>1.199999e+06</td>\n",
       "      <td>6.400000e+01</td>\n",
       "      <td>1.499970e+05</td>\n",
       "      <td>4.000000e+00</td>\n",
       "      <td>5.897591e+01</td>\n",
       "      <td>9.000000</td>\n",
       "      <td>1.900000e+01</td>\n",
       "      <td>8.490000e+02</td>\n",
       "      <td>9.000000e+00</td>\n",
       "      <td>4.999000e+03</td>\n",
       "    </tr>\n",
       "  </tbody>\n",
       "</table>\n",
       "</div>"
      ],
      "text/plain": [
       "                 id           Age  Annual Income  Number of Dependents  \\\n",
       "count  1.200000e+06  1.181295e+06   1.155051e+06          1.090328e+06   \n",
       "mean   5.999995e+05  4.114556e+01   3.274522e+04          2.009934e+00   \n",
       "std    3.464103e+05  1.353995e+01   3.217951e+04          1.417338e+00   \n",
       "min    0.000000e+00  1.800000e+01   1.000000e+00          0.000000e+00   \n",
       "25%    2.999998e+05  3.000000e+01   8.001000e+03          1.000000e+00   \n",
       "50%    5.999995e+05  4.100000e+01   2.391100e+04          2.000000e+00   \n",
       "75%    8.999992e+05  5.300000e+01   4.463400e+04          3.000000e+00   \n",
       "max    1.199999e+06  6.400000e+01   1.499970e+05          4.000000e+00   \n",
       "\n",
       "       Health Score  Previous Claims   Vehicle Age  Credit Score  \\\n",
       "count  1.125924e+06    835971.000000  1.199994e+06  1.062118e+06   \n",
       "mean   2.561391e+01         1.002689  9.569889e+00  5.929244e+02   \n",
       "std    1.220346e+01         0.982840  5.776189e+00  1.499819e+02   \n",
       "min    2.012237e+00         0.000000  0.000000e+00  3.000000e+02   \n",
       "25%    1.591896e+01         0.000000  5.000000e+00  4.680000e+02   \n",
       "50%    2.457865e+01         1.000000  1.000000e+01  5.950000e+02   \n",
       "75%    3.452721e+01         2.000000  1.500000e+01  7.210000e+02   \n",
       "max    5.897591e+01         9.000000  1.900000e+01  8.490000e+02   \n",
       "\n",
       "       Insurance Duration  Premium Amount  \n",
       "count        1.199999e+06    1.200000e+06  \n",
       "mean         5.018219e+00    1.102545e+03  \n",
       "std          2.594331e+00    8.649989e+02  \n",
       "min          1.000000e+00    2.000000e+01  \n",
       "25%          3.000000e+00    5.140000e+02  \n",
       "50%          5.000000e+00    8.720000e+02  \n",
       "75%          7.000000e+00    1.509000e+03  \n",
       "max          9.000000e+00    4.999000e+03  "
      ]
     },
     "execution_count": 73,
     "metadata": {},
     "output_type": "execute_result"
    }
   ],
   "source": [
    "df.describe()"
   ]
  },
  {
   "cell_type": "markdown",
   "id": "412aa683",
   "metadata": {},
   "source": [
    "### Inference"
   ]
  },
  {
   "cell_type": "markdown",
   "id": "434496c3",
   "metadata": {},
   "source": [
    "| Column                   | Observations                                     | Potential issue              |\n",
    "| ------------------------ | ------------------------------------------------ | ---------------------------- |\n",
    "| **Age**                  | min = 18, max = 64 ✅ realistic                   | none                         |\n",
    "| **Annual Income**        | mean ≈ 41 K, max ≈ 149 K ✅ plausible             | none                         |\n",
    "| **Number of Dependents** | 0–4 ✅ logical                                    | none                         |\n",
    "| **Health Score**         | 20 – ~589 ❌ *Possible outliers or scaling issue* | we’ll cap or normalize later |\n",
    "| **Previous Claims**      | 0–9 ✅ realistic small integer                    | none                         |\n",
    "| **Vehicle Age**          | 0–19 ✅ acceptable                                | none                         |\n",
    "| **Credit Score**         | 300–849 ✅ matches real credit range              | none                         |\n",
    "| **Insurance Duration**   | 1–9 ✅ maybe in years                             | none                         |\n",
    "| **Premium Amount**       | 2 – 4999 ✅ plausible                             | none                         |\n"
   ]
  },
  {
   "cell_type": "markdown",
   "id": "b2a40521",
   "metadata": {},
   "source": [
    "## Data Cleaning & Pre-processing"
   ]
  },
  {
   "cell_type": "markdown",
   "id": "7fa57619",
   "metadata": {},
   "source": [
    "### Missing Values"
   ]
  },
  {
   "cell_type": "code",
   "execution_count": 74,
   "id": "03f0e148",
   "metadata": {},
   "outputs": [
    {
     "name": "stdout",
     "output_type": "stream",
     "text": [
      "                      Missing Values  Missing %\n",
      "Previous Claims               364029  30.335750\n",
      "Occupation                    358075  29.839583\n",
      "Credit Score                  137882  11.490167\n",
      "Number of Dependents          109672   9.139333\n",
      "Customer Feedback              77824   6.485333\n",
      "Health Score                   74076   6.173000\n",
      "Annual Income                  44949   3.745750\n",
      "Age                            18705   1.558750\n",
      "Marital Status                 18529   1.544083\n",
      "Vehicle Age                        6   0.000500\n",
      "Insurance Duration                 1   0.000083\n"
     ]
    }
   ],
   "source": [
    "# Missing value summary\n",
    "missing = df.isnull().sum().sort_values(ascending=False)\n",
    "missing_percent = (missing / len(df)) * 100\n",
    "missing_summary = pd.DataFrame({'Missing Values': missing, 'Missing %': missing_percent})\n",
    "print(missing_summary[missing_summary['Missing Values'] > 0])\n"
   ]
  },
  {
   "cell_type": "markdown",
   "id": "721b1295",
   "metadata": {},
   "source": []
  },
  {
   "cell_type": "markdown",
   "id": "fbd2138c",
   "metadata": {},
   "source": []
  },
  {
   "cell_type": "code",
   "execution_count": 75,
   "id": "d36f02e2",
   "metadata": {},
   "outputs": [
    {
     "name": "stdout",
     "output_type": "stream",
     "text": [
      "                      Missing Values  Missing %\n",
      "Previous Claims               364029  30.335750\n",
      "Occupation                    358075  29.839583\n",
      "Credit Score                  137882  11.490167\n",
      "Number of Dependents          109672   9.139333\n",
      "Customer Feedback              77824   6.485333\n",
      "Health Score                   74076   6.173000\n",
      "Annual Income                  44949   3.745750\n",
      "Age                            18705   1.558750\n",
      "Marital Status                 18529   1.544083\n",
      "Vehicle Age                        6   0.000500\n",
      "Insurance Duration                 1   0.000083\n"
     ]
    }
   ],
   "source": [
    "# Missing value summary\n",
    "missing = df.isnull().sum().sort_values(ascending=False)\n",
    "missing_percent = (missing / len(df)) * 100\n",
    "missing_summary = pd.DataFrame({'Missing Values': missing, 'Missing %': missing_percent})\n",
    "print(missing_summary[missing_summary['Missing Values'] > 0])"
   ]
  },
  {
   "cell_type": "markdown",
   "id": "90064937",
   "metadata": {},
   "source": [
    "### Remove age"
   ]
  },
  {
   "cell_type": "code",
   "execution_count": 76,
   "id": "0124096c",
   "metadata": {},
   "outputs": [],
   "source": [
    "# Safely replace invalid/missing Age values\n",
    "df['Age'] = df['Age'].replace(['', 'NaN', 'unknown'], pd.NA)\n",
    "df['Vehicle Age'] = df['Vehicle Age'].replace(['', 'NaN', 'unknown'], pd.NA)\n",
    "df['Insurance Duration'] = df['Insurance Duration'].replace(['', 'NaN', 'unknown'], pd.NA)\n",
    "# Now drop rows with missing Age\n",
    "df = df.dropna(subset=['Age']).reset_index(drop=True)\n",
    "df = df.dropna(subset=['Vehicle Age']).reset_index(drop=True)\n",
    "df = df.dropna(subset=['Insurance Duration']).reset_index(drop=True)\n"
   ]
  },
  {
   "cell_type": "code",
   "execution_count": 77,
   "id": "b374b1eb",
   "metadata": {},
   "outputs": [],
   "source": [
    "df['Number of Dependents'] = df['Number of Dependents'].fillna(0)\n",
    "df['Previous Claims'] = df['Previous Claims'].fillna(0)"
   ]
  },
  {
   "cell_type": "code",
   "execution_count": 80,
   "id": "ecd8ef0a",
   "metadata": {},
   "outputs": [],
   "source": [
    "# Categorical Columns\n",
    "cat_fill_unknown = ['Occupation', 'Customer Feedback', 'Marital Status']\n",
    "for col in cat_fill_unknown:\n",
    "    df[col] = df[col].fillna('Unknown')"
   ]
  },
  {
   "cell_type": "code",
   "execution_count": 82,
   "id": "fc4904d2",
   "metadata": {},
   "outputs": [],
   "source": [
    "df['Credit Score'] = df['Credit Score'].fillna(df['Credit Score'].median())\n",
    "df['Health Score'] = df['Health Score'].fillna(df['Health Score'].median())\n",
    "df['Annual Income'] = df['Annual Income'].fillna(df['Annual Income'].median())\n"
   ]
  },
  {
   "cell_type": "code",
   "execution_count": 83,
   "id": "fb819288",
   "metadata": {},
   "outputs": [
    {
     "name": "stdout",
     "output_type": "stream",
     "text": [
      "Empty DataFrame\n",
      "Columns: [Missing Values, Missing %]\n",
      "Index: []\n"
     ]
    }
   ],
   "source": [
    "# Missing value summary|\n",
    "missing = df.isnull().sum().sort_values(ascending=False)\n",
    "missing_percent = (missing / len(df)) * 100\n",
    "missing_summary = pd.DataFrame({'Missing Values': missing, 'Missing %': missing_percent})\n",
    "print(missing_summary[missing_summary['Missing Values'] > 0])"
   ]
  },
  {
   "cell_type": "code",
   "execution_count": 84,
   "id": "263400ac",
   "metadata": {},
   "outputs": [
    {
     "name": "stdout",
     "output_type": "stream",
     "text": [
      "<class 'pandas.core.frame.DataFrame'>\n",
      "RangeIndex: 1181288 entries, 0 to 1181287\n",
      "Data columns (total 21 columns):\n",
      " #   Column                Non-Null Count    Dtype  \n",
      "---  ------                --------------    -----  \n",
      " 0   id                    1181288 non-null  int64  \n",
      " 1   Age                   1181288 non-null  float64\n",
      " 2   Gender                1181288 non-null  object \n",
      " 3   Annual Income         1181288 non-null  float64\n",
      " 4   Marital Status        1181288 non-null  object \n",
      " 5   Number of Dependents  1181288 non-null  float64\n",
      " 6   Education Level       1181288 non-null  object \n",
      " 7   Occupation            1181288 non-null  object \n",
      " 8   Health Score          1181288 non-null  float64\n",
      " 9   Location              1181288 non-null  object \n",
      " 10  Policy Type           1181288 non-null  object \n",
      " 11  Previous Claims       1181288 non-null  float64\n",
      " 12  Vehicle Age           1181288 non-null  float64\n",
      " 13  Credit Score          1181288 non-null  float64\n",
      " 14  Insurance Duration    1181288 non-null  float64\n",
      " 15  Policy Start Date     1181288 non-null  object \n",
      " 16  Customer Feedback     1181288 non-null  object \n",
      " 17  Smoking Status        1181288 non-null  object \n",
      " 18  Exercise Frequency    1181288 non-null  object \n",
      " 19  Property Type         1181288 non-null  object \n",
      " 20  Premium Amount        1181288 non-null  float64\n",
      "dtypes: float64(9), int64(1), object(11)\n",
      "memory usage: 189.3+ MB\n"
     ]
    }
   ],
   "source": [
    "df.info()"
   ]
  },
  {
   "cell_type": "code",
   "execution_count": 86,
   "id": "0b83ca46",
   "metadata": {},
   "outputs": [],
   "source": [
    "TARGET_COL = 'Premium Amount'\n",
    "x_train = df.drop(columns=[TARGET_COL])\n",
    "y_train = df[TARGET_COL]"
   ]
  },
  {
   "cell_type": "code",
   "execution_count": 87,
   "id": "21515256",
   "metadata": {},
   "outputs": [
    {
     "data": {
      "text/plain": [
       "array(['Married', 'Divorced', 'Single', 'Unknown'], dtype=object)"
      ]
     },
     "execution_count": 87,
     "metadata": {},
     "output_type": "execute_result"
    }
   ],
   "source": [
    "df['Marital Status'].unique()"
   ]
  },
  {
   "cell_type": "code",
   "execution_count": null,
   "id": "07782fca",
   "metadata": {},
   "outputs": [],
   "source": []
  }
 ],
 "metadata": {
  "kernelspec": {
   "display_name": "Python 3",
   "language": "python",
   "name": "python3"
  },
  "language_info": {
   "codemirror_mode": {
    "name": "ipython",
    "version": 3
   },
   "file_extension": ".py",
   "mimetype": "text/x-python",
   "name": "python",
   "nbconvert_exporter": "python",
   "pygments_lexer": "ipython3",
   "version": "3.9.6"
  }
 },
 "nbformat": 4,
 "nbformat_minor": 5
}
