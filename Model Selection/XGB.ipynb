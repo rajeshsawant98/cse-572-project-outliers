{
 "cells": [
  {
   "cell_type": "code",
   "execution_count": 20,
   "id": "8b15a9a3-b841-47fe-bbd9-a5f63c470c10",
   "metadata": {},
   "outputs": [
    {
     "name": "stdout",
     "output_type": "stream",
     "text": [
      "pandas available\n",
      "numpy available\n",
      "matplotlib available\n",
      "seaborn available\n",
      "xgboost available\n",
      "scikit-learn missing — installing via pip.\n",
      "zsh:1: no such file or directory: /Users/adityapatil/Documents/Fall-25/CSE572/Project\n",
      "joblib available\n"
     ]
    }
   ],
   "source": [
    "import importlib, sys\n",
    "def ensure(pkg):\n",
    "    try:\n",
    "        importlib.import_module(pkg)\n",
    "        print(f\"{pkg} available\")\n",
    "    except ImportError:\n",
    "        print(f\"{pkg} missing — installing via pip.\")\n",
    "        !{sys.executable} -m pip install {pkg}\n",
    "\n",
    "for p in ['pandas','numpy','matplotlib','seaborn','xgboost','scikit-learn','joblib']:\n",
    "    ensure(p)\n"
   ]
  },
  {
   "cell_type": "code",
   "execution_count": 21,
   "id": "1b34ce7f-8f5f-4b94-af05-1c856e2c9db3",
   "metadata": {},
   "outputs": [
    {
     "name": "stdout",
     "output_type": "stream",
     "text": [
      "Columns in the Dataset:\n",
      "['id', 'Age', 'Gender', 'Annual Income', 'Marital Status', 'Number of Dependents', 'Education Level', 'Occupation', 'Health Score', 'Location', 'Policy Type', 'Previous Claims', 'Vehicle Age', 'Credit Score', 'Insurance Duration', 'Policy Start Date', 'Customer Feedback', 'Smoking Status', 'Exercise Frequency', 'Property Type', 'Premium Amount']\n",
      "Shape: (1200000, 21)\n"
     ]
    },
    {
     "data": {
      "text/html": [
       "<div>\n",
       "<style scoped>\n",
       "    .dataframe tbody tr th:only-of-type {\n",
       "        vertical-align: middle;\n",
       "    }\n",
       "\n",
       "    .dataframe tbody tr th {\n",
       "        vertical-align: top;\n",
       "    }\n",
       "\n",
       "    .dataframe thead th {\n",
       "        text-align: right;\n",
       "    }\n",
       "</style>\n",
       "<table border=\"1\" class=\"dataframe\">\n",
       "  <thead>\n",
       "    <tr style=\"text-align: right;\">\n",
       "      <th></th>\n",
       "      <th>id</th>\n",
       "      <th>Age</th>\n",
       "      <th>Gender</th>\n",
       "      <th>Annual Income</th>\n",
       "      <th>Marital Status</th>\n",
       "      <th>Number of Dependents</th>\n",
       "      <th>Education Level</th>\n",
       "      <th>Occupation</th>\n",
       "      <th>Health Score</th>\n",
       "      <th>Location</th>\n",
       "      <th>...</th>\n",
       "      <th>Previous Claims</th>\n",
       "      <th>Vehicle Age</th>\n",
       "      <th>Credit Score</th>\n",
       "      <th>Insurance Duration</th>\n",
       "      <th>Policy Start Date</th>\n",
       "      <th>Customer Feedback</th>\n",
       "      <th>Smoking Status</th>\n",
       "      <th>Exercise Frequency</th>\n",
       "      <th>Property Type</th>\n",
       "      <th>Premium Amount</th>\n",
       "    </tr>\n",
       "  </thead>\n",
       "  <tbody>\n",
       "    <tr>\n",
       "      <th>0</th>\n",
       "      <td>0</td>\n",
       "      <td>19.0</td>\n",
       "      <td>Female</td>\n",
       "      <td>10049.0</td>\n",
       "      <td>Married</td>\n",
       "      <td>1.0</td>\n",
       "      <td>Bachelor's</td>\n",
       "      <td>Self-Employed</td>\n",
       "      <td>22.598761</td>\n",
       "      <td>Urban</td>\n",
       "      <td>...</td>\n",
       "      <td>2.0</td>\n",
       "      <td>17.0</td>\n",
       "      <td>372.0</td>\n",
       "      <td>5.0</td>\n",
       "      <td>2023-12-23 15:21:39.134960</td>\n",
       "      <td>Poor</td>\n",
       "      <td>No</td>\n",
       "      <td>Weekly</td>\n",
       "      <td>House</td>\n",
       "      <td>2869.0</td>\n",
       "    </tr>\n",
       "    <tr>\n",
       "      <th>1</th>\n",
       "      <td>1</td>\n",
       "      <td>39.0</td>\n",
       "      <td>Female</td>\n",
       "      <td>31678.0</td>\n",
       "      <td>Divorced</td>\n",
       "      <td>3.0</td>\n",
       "      <td>Master's</td>\n",
       "      <td>NaN</td>\n",
       "      <td>15.569731</td>\n",
       "      <td>Rural</td>\n",
       "      <td>...</td>\n",
       "      <td>1.0</td>\n",
       "      <td>12.0</td>\n",
       "      <td>694.0</td>\n",
       "      <td>2.0</td>\n",
       "      <td>2023-06-12 15:21:39.111551</td>\n",
       "      <td>Average</td>\n",
       "      <td>Yes</td>\n",
       "      <td>Monthly</td>\n",
       "      <td>House</td>\n",
       "      <td>1483.0</td>\n",
       "    </tr>\n",
       "    <tr>\n",
       "      <th>2</th>\n",
       "      <td>2</td>\n",
       "      <td>23.0</td>\n",
       "      <td>Male</td>\n",
       "      <td>25602.0</td>\n",
       "      <td>Divorced</td>\n",
       "      <td>3.0</td>\n",
       "      <td>High School</td>\n",
       "      <td>Self-Employed</td>\n",
       "      <td>47.177549</td>\n",
       "      <td>Suburban</td>\n",
       "      <td>...</td>\n",
       "      <td>1.0</td>\n",
       "      <td>14.0</td>\n",
       "      <td>NaN</td>\n",
       "      <td>3.0</td>\n",
       "      <td>2023-09-30 15:21:39.221386</td>\n",
       "      <td>Good</td>\n",
       "      <td>Yes</td>\n",
       "      <td>Weekly</td>\n",
       "      <td>House</td>\n",
       "      <td>567.0</td>\n",
       "    </tr>\n",
       "    <tr>\n",
       "      <th>3</th>\n",
       "      <td>3</td>\n",
       "      <td>21.0</td>\n",
       "      <td>Male</td>\n",
       "      <td>141855.0</td>\n",
       "      <td>Married</td>\n",
       "      <td>2.0</td>\n",
       "      <td>Bachelor's</td>\n",
       "      <td>NaN</td>\n",
       "      <td>10.938144</td>\n",
       "      <td>Rural</td>\n",
       "      <td>...</td>\n",
       "      <td>1.0</td>\n",
       "      <td>0.0</td>\n",
       "      <td>367.0</td>\n",
       "      <td>1.0</td>\n",
       "      <td>2024-06-12 15:21:39.226954</td>\n",
       "      <td>Poor</td>\n",
       "      <td>Yes</td>\n",
       "      <td>Daily</td>\n",
       "      <td>Apartment</td>\n",
       "      <td>765.0</td>\n",
       "    </tr>\n",
       "    <tr>\n",
       "      <th>4</th>\n",
       "      <td>4</td>\n",
       "      <td>21.0</td>\n",
       "      <td>Male</td>\n",
       "      <td>39651.0</td>\n",
       "      <td>Single</td>\n",
       "      <td>1.0</td>\n",
       "      <td>Bachelor's</td>\n",
       "      <td>Self-Employed</td>\n",
       "      <td>20.376094</td>\n",
       "      <td>Rural</td>\n",
       "      <td>...</td>\n",
       "      <td>0.0</td>\n",
       "      <td>8.0</td>\n",
       "      <td>598.0</td>\n",
       "      <td>4.0</td>\n",
       "      <td>2021-12-01 15:21:39.252145</td>\n",
       "      <td>Poor</td>\n",
       "      <td>Yes</td>\n",
       "      <td>Weekly</td>\n",
       "      <td>House</td>\n",
       "      <td>2022.0</td>\n",
       "    </tr>\n",
       "  </tbody>\n",
       "</table>\n",
       "<p>5 rows × 21 columns</p>\n",
       "</div>"
      ],
      "text/plain": [
       "   id   Age  Gender  Annual Income Marital Status  Number of Dependents  \\\n",
       "0   0  19.0  Female        10049.0        Married                   1.0   \n",
       "1   1  39.0  Female        31678.0       Divorced                   3.0   \n",
       "2   2  23.0    Male        25602.0       Divorced                   3.0   \n",
       "3   3  21.0    Male       141855.0        Married                   2.0   \n",
       "4   4  21.0    Male        39651.0         Single                   1.0   \n",
       "\n",
       "  Education Level     Occupation  Health Score  Location  ... Previous Claims  \\\n",
       "0      Bachelor's  Self-Employed     22.598761     Urban  ...             2.0   \n",
       "1        Master's            NaN     15.569731     Rural  ...             1.0   \n",
       "2     High School  Self-Employed     47.177549  Suburban  ...             1.0   \n",
       "3      Bachelor's            NaN     10.938144     Rural  ...             1.0   \n",
       "4      Bachelor's  Self-Employed     20.376094     Rural  ...             0.0   \n",
       "\n",
       "   Vehicle Age  Credit Score  Insurance Duration           Policy Start Date  \\\n",
       "0         17.0         372.0                 5.0  2023-12-23 15:21:39.134960   \n",
       "1         12.0         694.0                 2.0  2023-06-12 15:21:39.111551   \n",
       "2         14.0           NaN                 3.0  2023-09-30 15:21:39.221386   \n",
       "3          0.0         367.0                 1.0  2024-06-12 15:21:39.226954   \n",
       "4          8.0         598.0                 4.0  2021-12-01 15:21:39.252145   \n",
       "\n",
       "  Customer Feedback Smoking Status Exercise Frequency Property Type  \\\n",
       "0              Poor             No             Weekly         House   \n",
       "1           Average            Yes            Monthly         House   \n",
       "2              Good            Yes             Weekly         House   \n",
       "3              Poor            Yes              Daily     Apartment   \n",
       "4              Poor            Yes             Weekly         House   \n",
       "\n",
       "  Premium Amount  \n",
       "0         2869.0  \n",
       "1         1483.0  \n",
       "2          567.0  \n",
       "3          765.0  \n",
       "4         2022.0  \n",
       "\n",
       "[5 rows x 21 columns]"
      ]
     },
     "execution_count": 21,
     "metadata": {},
     "output_type": "execute_result"
    }
   ],
   "source": [
    "import pandas as pd\n",
    "df = pd.read_csv(\"../data/train.csv\")\n",
    "print(\"Columns in the Dataset:\")\n",
    "print(df.columns.tolist())\n",
    "print(\"Shape:\", df.shape)\n",
    "df.head()\n"
   ]
  },
  {
   "cell_type": "code",
   "execution_count": 22,
   "id": "38a0ff6c-733b-41b0-8ecd-1a09eadb8437",
   "metadata": {},
   "outputs": [
    {
     "name": "stdout",
     "output_type": "stream",
     "text": [
      "\n",
      "Data Information:\n",
      "<class 'pandas.core.frame.DataFrame'>\n",
      "RangeIndex: 1200000 entries, 0 to 1199999\n",
      "Data columns (total 21 columns):\n",
      " #   Column                Non-Null Count    Dtype  \n",
      "---  ------                --------------    -----  \n",
      " 0   id                    1200000 non-null  int64  \n",
      " 1   Age                   1181295 non-null  float64\n",
      " 2   Gender                1200000 non-null  object \n",
      " 3   Annual Income         1155051 non-null  float64\n",
      " 4   Marital Status        1181471 non-null  object \n",
      " 5   Number of Dependents  1090328 non-null  float64\n",
      " 6   Education Level       1200000 non-null  object \n",
      " 7   Occupation            841925 non-null   object \n",
      " 8   Health Score          1125924 non-null  float64\n",
      " 9   Location              1200000 non-null  object \n",
      " 10  Policy Type           1200000 non-null  object \n",
      " 11  Previous Claims       835971 non-null   float64\n",
      " 12  Vehicle Age           1199994 non-null  float64\n",
      " 13  Credit Score          1062118 non-null  float64\n",
      " 14  Insurance Duration    1199999 non-null  float64\n",
      " 15  Policy Start Date     1200000 non-null  object \n",
      " 16  Customer Feedback     1122176 non-null  object \n",
      " 17  Smoking Status        1200000 non-null  object \n",
      " 18  Exercise Frequency    1200000 non-null  object \n",
      " 19  Property Type         1200000 non-null  object \n",
      " 20  Premium Amount        1200000 non-null  float64\n",
      "dtypes: float64(9), int64(1), object(11)\n",
      "memory usage: 192.3+ MB\n",
      "\n",
      "All the Missing values per column:\n"
     ]
    },
    {
     "data": {
      "text/plain": [
       "id                           0\n",
       "Age                      18705\n",
       "Gender                       0\n",
       "Annual Income            44949\n",
       "Marital Status           18529\n",
       "Number of Dependents    109672\n",
       "Education Level              0\n",
       "Occupation              358075\n",
       "Health Score             74076\n",
       "Location                     0\n",
       "Policy Type                  0\n",
       "Previous Claims         364029\n",
       "Vehicle Age                  6\n",
       "Credit Score            137882\n",
       "Insurance Duration           1\n",
       "Policy Start Date            0\n",
       "Customer Feedback        77824\n",
       "Smoking Status               0\n",
       "Exercise Frequency           0\n",
       "Property Type                0\n",
       "Premium Amount               0\n",
       "dtype: int64"
      ]
     },
     "metadata": {},
     "output_type": "display_data"
    },
    {
     "name": "stdout",
     "output_type": "stream",
     "text": [
      "\n",
      "Duplicate Rows  here: 0\n",
      "\n",
      "Numerical Summary Statistics data:\n"
     ]
    },
    {
     "data": {
      "text/html": [
       "<div>\n",
       "<style scoped>\n",
       "    .dataframe tbody tr th:only-of-type {\n",
       "        vertical-align: middle;\n",
       "    }\n",
       "\n",
       "    .dataframe tbody tr th {\n",
       "        vertical-align: top;\n",
       "    }\n",
       "\n",
       "    .dataframe thead th {\n",
       "        text-align: right;\n",
       "    }\n",
       "</style>\n",
       "<table border=\"1\" class=\"dataframe\">\n",
       "  <thead>\n",
       "    <tr style=\"text-align: right;\">\n",
       "      <th></th>\n",
       "      <th>id</th>\n",
       "      <th>Age</th>\n",
       "      <th>Annual Income</th>\n",
       "      <th>Number of Dependents</th>\n",
       "      <th>Health Score</th>\n",
       "      <th>Previous Claims</th>\n",
       "      <th>Vehicle Age</th>\n",
       "      <th>Credit Score</th>\n",
       "      <th>Insurance Duration</th>\n",
       "      <th>Premium Amount</th>\n",
       "    </tr>\n",
       "  </thead>\n",
       "  <tbody>\n",
       "    <tr>\n",
       "      <th>count</th>\n",
       "      <td>1.200000e+06</td>\n",
       "      <td>1.181295e+06</td>\n",
       "      <td>1.155051e+06</td>\n",
       "      <td>1.090328e+06</td>\n",
       "      <td>1.125924e+06</td>\n",
       "      <td>835971.000000</td>\n",
       "      <td>1.199994e+06</td>\n",
       "      <td>1.062118e+06</td>\n",
       "      <td>1.199999e+06</td>\n",
       "      <td>1.200000e+06</td>\n",
       "    </tr>\n",
       "    <tr>\n",
       "      <th>mean</th>\n",
       "      <td>5.999995e+05</td>\n",
       "      <td>4.114556e+01</td>\n",
       "      <td>3.274522e+04</td>\n",
       "      <td>2.009934e+00</td>\n",
       "      <td>2.561391e+01</td>\n",
       "      <td>1.002689</td>\n",
       "      <td>9.569889e+00</td>\n",
       "      <td>5.929244e+02</td>\n",
       "      <td>5.018219e+00</td>\n",
       "      <td>1.102545e+03</td>\n",
       "    </tr>\n",
       "    <tr>\n",
       "      <th>std</th>\n",
       "      <td>3.464103e+05</td>\n",
       "      <td>1.353995e+01</td>\n",
       "      <td>3.217951e+04</td>\n",
       "      <td>1.417338e+00</td>\n",
       "      <td>1.220346e+01</td>\n",
       "      <td>0.982840</td>\n",
       "      <td>5.776189e+00</td>\n",
       "      <td>1.499819e+02</td>\n",
       "      <td>2.594331e+00</td>\n",
       "      <td>8.649989e+02</td>\n",
       "    </tr>\n",
       "    <tr>\n",
       "      <th>min</th>\n",
       "      <td>0.000000e+00</td>\n",
       "      <td>1.800000e+01</td>\n",
       "      <td>1.000000e+00</td>\n",
       "      <td>0.000000e+00</td>\n",
       "      <td>2.012237e+00</td>\n",
       "      <td>0.000000</td>\n",
       "      <td>0.000000e+00</td>\n",
       "      <td>3.000000e+02</td>\n",
       "      <td>1.000000e+00</td>\n",
       "      <td>2.000000e+01</td>\n",
       "    </tr>\n",
       "    <tr>\n",
       "      <th>25%</th>\n",
       "      <td>2.999998e+05</td>\n",
       "      <td>3.000000e+01</td>\n",
       "      <td>8.001000e+03</td>\n",
       "      <td>1.000000e+00</td>\n",
       "      <td>1.591896e+01</td>\n",
       "      <td>0.000000</td>\n",
       "      <td>5.000000e+00</td>\n",
       "      <td>4.680000e+02</td>\n",
       "      <td>3.000000e+00</td>\n",
       "      <td>5.140000e+02</td>\n",
       "    </tr>\n",
       "    <tr>\n",
       "      <th>50%</th>\n",
       "      <td>5.999995e+05</td>\n",
       "      <td>4.100000e+01</td>\n",
       "      <td>2.391100e+04</td>\n",
       "      <td>2.000000e+00</td>\n",
       "      <td>2.457865e+01</td>\n",
       "      <td>1.000000</td>\n",
       "      <td>1.000000e+01</td>\n",
       "      <td>5.950000e+02</td>\n",
       "      <td>5.000000e+00</td>\n",
       "      <td>8.720000e+02</td>\n",
       "    </tr>\n",
       "    <tr>\n",
       "      <th>75%</th>\n",
       "      <td>8.999992e+05</td>\n",
       "      <td>5.300000e+01</td>\n",
       "      <td>4.463400e+04</td>\n",
       "      <td>3.000000e+00</td>\n",
       "      <td>3.452721e+01</td>\n",
       "      <td>2.000000</td>\n",
       "      <td>1.500000e+01</td>\n",
       "      <td>7.210000e+02</td>\n",
       "      <td>7.000000e+00</td>\n",
       "      <td>1.509000e+03</td>\n",
       "    </tr>\n",
       "    <tr>\n",
       "      <th>max</th>\n",
       "      <td>1.199999e+06</td>\n",
       "      <td>6.400000e+01</td>\n",
       "      <td>1.499970e+05</td>\n",
       "      <td>4.000000e+00</td>\n",
       "      <td>5.897591e+01</td>\n",
       "      <td>9.000000</td>\n",
       "      <td>1.900000e+01</td>\n",
       "      <td>8.490000e+02</td>\n",
       "      <td>9.000000e+00</td>\n",
       "      <td>4.999000e+03</td>\n",
       "    </tr>\n",
       "  </tbody>\n",
       "</table>\n",
       "</div>"
      ],
      "text/plain": [
       "                 id           Age  Annual Income  Number of Dependents  \\\n",
       "count  1.200000e+06  1.181295e+06   1.155051e+06          1.090328e+06   \n",
       "mean   5.999995e+05  4.114556e+01   3.274522e+04          2.009934e+00   \n",
       "std    3.464103e+05  1.353995e+01   3.217951e+04          1.417338e+00   \n",
       "min    0.000000e+00  1.800000e+01   1.000000e+00          0.000000e+00   \n",
       "25%    2.999998e+05  3.000000e+01   8.001000e+03          1.000000e+00   \n",
       "50%    5.999995e+05  4.100000e+01   2.391100e+04          2.000000e+00   \n",
       "75%    8.999992e+05  5.300000e+01   4.463400e+04          3.000000e+00   \n",
       "max    1.199999e+06  6.400000e+01   1.499970e+05          4.000000e+00   \n",
       "\n",
       "       Health Score  Previous Claims   Vehicle Age  Credit Score  \\\n",
       "count  1.125924e+06    835971.000000  1.199994e+06  1.062118e+06   \n",
       "mean   2.561391e+01         1.002689  9.569889e+00  5.929244e+02   \n",
       "std    1.220346e+01         0.982840  5.776189e+00  1.499819e+02   \n",
       "min    2.012237e+00         0.000000  0.000000e+00  3.000000e+02   \n",
       "25%    1.591896e+01         0.000000  5.000000e+00  4.680000e+02   \n",
       "50%    2.457865e+01         1.000000  1.000000e+01  5.950000e+02   \n",
       "75%    3.452721e+01         2.000000  1.500000e+01  7.210000e+02   \n",
       "max    5.897591e+01         9.000000  1.900000e+01  8.490000e+02   \n",
       "\n",
       "       Insurance Duration  Premium Amount  \n",
       "count        1.199999e+06    1.200000e+06  \n",
       "mean         5.018219e+00    1.102545e+03  \n",
       "std          2.594331e+00    8.649989e+02  \n",
       "min          1.000000e+00    2.000000e+01  \n",
       "25%          3.000000e+00    5.140000e+02  \n",
       "50%          5.000000e+00    8.720000e+02  \n",
       "75%          7.000000e+00    1.509000e+03  \n",
       "max          9.000000e+00    4.999000e+03  "
      ]
     },
     "metadata": {},
     "output_type": "display_data"
    },
    {
     "name": "stdout",
     "output_type": "stream",
     "text": [
      "\n",
      "Unique value counts for Gender:\n"
     ]
    },
    {
     "data": {
      "text/plain": [
       "Gender\n",
       "Male      602571\n",
       "Female    597429\n",
       "Name: count, dtype: int64"
      ]
     },
     "metadata": {},
     "output_type": "display_data"
    },
    {
     "name": "stdout",
     "output_type": "stream",
     "text": [
      "\n",
      "Unique value counts for Marital Status:\n"
     ]
    },
    {
     "data": {
      "text/plain": [
       "Marital Status\n",
       "Single      395391\n",
       "Married     394316\n",
       "Divorced    391764\n",
       "Name: count, dtype: int64"
      ]
     },
     "metadata": {},
     "output_type": "display_data"
    },
    {
     "name": "stdout",
     "output_type": "stream",
     "text": [
      "\n",
      "Unique value counts for Education Level:\n"
     ]
    },
    {
     "data": {
      "text/plain": [
       "Education Level\n",
       "Master's       303818\n",
       "PhD            303507\n",
       "Bachelor's     303234\n",
       "High School    289441\n",
       "Name: count, dtype: int64"
      ]
     },
     "metadata": {},
     "output_type": "display_data"
    },
    {
     "name": "stdout",
     "output_type": "stream",
     "text": [
      "\n",
      "Unique value counts for Occupation:\n"
     ]
    },
    {
     "data": {
      "text/plain": [
       "Occupation\n",
       "Employed         282750\n",
       "Self-Employed    282645\n",
       "Unemployed       276530\n",
       "Name: count, dtype: int64"
      ]
     },
     "metadata": {},
     "output_type": "display_data"
    },
    {
     "name": "stdout",
     "output_type": "stream",
     "text": [
      "\n",
      "Unique value counts for Location:\n"
     ]
    },
    {
     "data": {
      "text/plain": [
       "Location\n",
       "Suburban    401542\n",
       "Rural       400947\n",
       "Urban       397511\n",
       "Name: count, dtype: int64"
      ]
     },
     "metadata": {},
     "output_type": "display_data"
    },
    {
     "name": "stdout",
     "output_type": "stream",
     "text": [
      "\n",
      "Unique value counts for Policy Type:\n"
     ]
    },
    {
     "data": {
      "text/plain": [
       "Policy Type\n",
       "Premium          401846\n",
       "Comprehensive    399600\n",
       "Basic            398554\n",
       "Name: count, dtype: int64"
      ]
     },
     "metadata": {},
     "output_type": "display_data"
    },
    {
     "name": "stdout",
     "output_type": "stream",
     "text": [
      "\n",
      "Unique value counts for Policy Start Date:\n"
     ]
    },
    {
     "data": {
      "text/plain": [
       "Policy Start Date\n",
       "2020-02-08 15:21:39.134960    142\n",
       "2023-08-13 15:21:39.155231    137\n",
       "2022-02-02 15:21:39.134960    137\n",
       "2022-08-30 15:21:39.134960    134\n",
       "2023-11-02 15:21:39.134960    118\n",
       "                             ... \n",
       "2021-06-07 15:21:39.104139      1\n",
       "2024-07-19 15:21:39.233998      1\n",
       "2019-12-14 15:21:39.110557      1\n",
       "2020-07-23 15:21:39.217387      1\n",
       "2020-10-19 15:21:39.118178      1\n",
       "Name: count, Length: 167381, dtype: int64"
      ]
     },
     "metadata": {},
     "output_type": "display_data"
    },
    {
     "name": "stdout",
     "output_type": "stream",
     "text": [
      "\n",
      "Unique value counts for Customer Feedback:\n"
     ]
    },
    {
     "data": {
      "text/plain": [
       "Customer Feedback\n",
       "Average    377905\n",
       "Poor       375518\n",
       "Good       368753\n",
       "Name: count, dtype: int64"
      ]
     },
     "metadata": {},
     "output_type": "display_data"
    },
    {
     "name": "stdout",
     "output_type": "stream",
     "text": [
      "\n",
      "Unique value counts for Smoking Status:\n"
     ]
    },
    {
     "data": {
      "text/plain": [
       "Smoking Status\n",
       "Yes    601873\n",
       "No     598127\n",
       "Name: count, dtype: int64"
      ]
     },
     "metadata": {},
     "output_type": "display_data"
    },
    {
     "name": "stdout",
     "output_type": "stream",
     "text": [
      "\n",
      "Unique value counts for Exercise Frequency:\n"
     ]
    },
    {
     "data": {
      "text/plain": [
       "Exercise Frequency\n",
       "Weekly     306179\n",
       "Monthly    299830\n",
       "Rarely     299420\n",
       "Daily      294571\n",
       "Name: count, dtype: int64"
      ]
     },
     "metadata": {},
     "output_type": "display_data"
    },
    {
     "name": "stdout",
     "output_type": "stream",
     "text": [
      "\n",
      "Unique value counts for Property Type:\n"
     ]
    },
    {
     "data": {
      "text/plain": [
       "Property Type\n",
       "House        400349\n",
       "Apartment    399978\n",
       "Condo        399673\n",
       "Name: count, dtype: int64"
      ]
     },
     "metadata": {},
     "output_type": "display_data"
    }
   ],
   "source": [
    "print(\"\\nData Information:\")\n",
    "df.info()\n",
    "\n",
    "print(\"\\nAll the Missing values per column:\")\n",
    "display(df.isnull().sum())\n",
    "\n",
    "print(\"\\nDuplicate Rows  here:\", df.duplicated().sum())\n",
    "\n",
    "print(\"\\nNumerical Summary Statistics data:\")\n",
    "display(df.describe())\n",
    "\n",
    "cat_cols = df.select_dtypes(include=['object', 'category']).columns\n",
    "for col in cat_cols:\n",
    "    print(f\"\\nUnique value counts for {col}:\")\n",
    "    display(df[col].value_counts())\n"
   ]
  },
  {
   "cell_type": "code",
   "execution_count": 23,
   "id": "70563a6a-c994-4834-9cbe-05f941602742",
   "metadata": {},
   "outputs": [],
   "source": [
    "num_cols = df.select_dtypes(include=['int64', 'float64']).columns.tolist()\n",
    "cat_cols = df.select_dtypes(include=['object']).columns.tolist()\n",
    "\n",
    "df[num_cols] = df[num_cols].fillna(df[num_cols].median())\n",
    "df[cat_cols] = df[cat_cols].fillna(df[cat_cols].mode().iloc[0])\n"
   ]
  },
  {
   "cell_type": "code",
   "execution_count": 24,
   "id": "9ba329f6-696b-405d-ab97-e795b8e0f330",
   "metadata": {},
   "outputs": [
    {
     "name": "stdout",
     "output_type": "stream",
     "text": [
      "Feature Columns here: ['Age', 'Gender', 'Annual Income', 'Marital Status', 'Number of Dependents', 'Education Level', 'Occupation', 'Health Score', 'Location', 'Previous Claims', 'Vehicle Age', 'Credit Score', 'Insurance Duration', 'Customer Feedback', 'Smoking Status', 'Exercise Frequency', 'Property Type']\n",
      "Numeric Targets here: ['Premium Amount']\n",
      "Categorical Targets here: ['Policy Type']\n"
     ]
    }
   ],
   "source": [
    "num_target_cols = ['Premium Amount']       # numeric target\n",
    "cat_target_cols = ['Policy Type']          # categorical target\n",
    "\n",
    "feature_cols = [c for c in df.columns if c not in num_target_cols + cat_target_cols + ['id','Policy Start Date']]\n",
    "\n",
    "X = df[feature_cols]\n",
    "y_num = df[num_target_cols]\n",
    "y_cat = df[cat_target_cols]\n",
    "\n",
    "print(\"Feature Columns here:\", X.columns.tolist())\n",
    "print(\"Numeric Targets here:\", num_target_cols)\n",
    "print(\"Categorical Targets here:\", cat_target_cols)\n"
   ]
  },
  {
   "cell_type": "code",
   "execution_count": 25,
   "id": "accf8b3c-3206-473c-aea6-aeda9f86b9ae",
   "metadata": {},
   "outputs": [
    {
     "name": "stderr",
     "output_type": "stream",
     "text": [
      "/var/folders/tz/mkd7_f011yb8zc42kdvw43hw0000gn/T/ipykernel_2091/1837073148.py:7: SettingWithCopyWarning: \n",
      "A value is trying to be set on a copy of a slice from a DataFrame.\n",
      "Try using .loc[row_indexer,col_indexer] = value instead\n",
      "\n",
      "See the caveats in the documentation: https://pandas.pydata.org/pandas-docs/stable/user_guide/indexing.html#returning-a-view-versus-a-copy\n",
      "  y_cat[col] = le.fit_transform(y_cat[col])\n"
     ]
    }
   ],
   "source": [
    "X_encoded = pd.get_dummies(X, drop_first=True)\n",
    "\n",
    "from sklearn.preprocessing import LabelEncoder\n",
    "cat_target_encoders = {}\n",
    "for col in y_cat.columns:\n",
    "    le = LabelEncoder()\n",
    "    y_cat[col] = le.fit_transform(y_cat[col])\n",
    "    cat_target_encoders[col] = le\n"
   ]
  },
  {
   "cell_type": "code",
   "execution_count": 26,
   "id": "ee7ee60b-4e7c-4a5f-8ac3-78185aecc749",
   "metadata": {},
   "outputs": [],
   "source": [
    "from sklearn.model_selection import train_test_split\n",
    "\n",
    "y_all = pd.concat([y_num, y_cat], axis=1)\n",
    "\n",
    "X_train, X_test, y_train, y_test = train_test_split(X_encoded, y_all, test_size=0.2, random_state=42)\n",
    "\n",
    "y_num_train = y_train[y_num.columns]\n",
    "y_num_test = y_test[y_num.columns]\n",
    "y_cat_train = y_train[y_cat.columns]\n",
    "y_cat_test = y_test[y_cat.columns]\n"
   ]
  },
  {
   "cell_type": "code",
   "execution_count": 27,
   "id": "e3507a5b-c9e7-40c7-b768-24654ebd94f1",
   "metadata": {},
   "outputs": [
    {
     "name": "stdout",
     "output_type": "stream",
     "text": [
      "Numeric Target model is trained.\n"
     ]
    },
    {
     "name": "stderr",
     "output_type": "stream",
     "text": [
      "/Users/adityapatil/Documents/Fall-25/CSE572/Project Checkpoint 1/venv/lib/python3.13/site-packages/xgboost/training.py:183: UserWarning: [21:38:36] WARNING: /Users/runner/work/xgboost/xgboost/src/learner.cc:738: \n",
      "Parameters: { \"use_label_encoder\" } are not used.\n",
      "\n",
      "  bst.update(dtrain, iteration=i, fobj=obj)\n"
     ]
    },
    {
     "name": "stdout",
     "output_type": "stream",
     "text": [
      "Categorical Target model is trained.\n"
     ]
    }
   ],
   "source": [
    "from xgboost import XGBRegressor, XGBClassifier\n",
    "from sklearn.multioutput import MultiOutputRegressor, MultiOutputClassifier\n",
    "\n",
    "xgb_reg = MultiOutputRegressor(\n",
    "    XGBRegressor(objective='reg:squarederror', n_estimators=100, random_state=42)\n",
    ")\n",
    "xgb_reg.fit(X_train, y_num_train)\n",
    "print(\"Numeric Target model is trained.\")\n",
    "\n",
    "xgb_clf = MultiOutputClassifier(\n",
    "    XGBClassifier(use_label_encoder=False, eval_metric='mlogloss', n_estimators=100, random_state=42)\n",
    ")\n",
    "xgb_clf.fit(X_train, y_cat_train)\n",
    "print(\"Categorical Target model is trained.\")\n"
   ]
  },
  {
   "cell_type": "code",
   "execution_count": 28,
   "id": "641975f4-bd1f-4bb2-9072-c08e7ffdb7d5",
   "metadata": {},
   "outputs": [
    {
     "name": "stdout",
     "output_type": "stream",
     "text": [
      "\n",
      "Numeric Prediction for first 5 rows:\n",
      "[[1181.1019]\n",
      " [1220.8628]\n",
      " [1170.687 ]\n",
      " [ 972.6232]\n",
      " [1208.7125]]\n",
      "\n",
      "Numeric Targets Evaluation -:\n",
      "Premium Amount: MSE=718675.1768, R2=0.0383\n",
      "\n",
      "Categorical Predictions for first 5 rows:\n",
      "[[2]\n",
      " [0]\n",
      " [2]\n",
      " [1]\n",
      " [1]]\n",
      "\n",
      "Categorical Targets Evaluation -- :\n",
      "Policy Type: Accuracy=0.3360\n"
     ]
    }
   ],
   "source": [
    "from sklearn.metrics import mean_squared_error, r2_score, accuracy_score\n",
    "import numpy as np\n",
    "\n",
    "y_num_pred = xgb_reg.predict(X_test)\n",
    "y_num_pred = np.atleast_2d(y_num_pred)\n",
    "print(\"\\nNumeric Prediction for first 5 rows:\")\n",
    "print(y_num_pred[:5])\n",
    "\n",
    "print(\"\\nNumeric Targets Evaluation -:\")\n",
    "for i, col in enumerate(y_num_test.columns):\n",
    "    pred_col = y_num_pred[:, i] if y_num_pred.shape[1] > 1 else y_num_pred.ravel()\n",
    "    mse_col = mean_squared_error(y_num_test[col], pred_col)\n",
    "    r2_col = r2_score(y_num_test[col], pred_col)\n",
    "    print(f\"{col}: MSE={mse_col:.4f}, R2={r2_col:.4f}\")\n",
    "\n",
    "y_cat_pred = xgb_clf.predict(X_test)\n",
    "y_cat_pred = np.atleast_2d(y_cat_pred)\n",
    "print(\"\\nCategorical Predictions for first 5 rows:\")\n",
    "print(y_cat_pred[:5])\n",
    "\n",
    "print(\"\\nCategorical Targets Evaluation -- :\")\n",
    "for i, col in enumerate(y_cat_test.columns):\n",
    "    pred_col = y_cat_pred[:, i] if y_cat_pred.shape[1] > 1 else y_cat_pred.ravel()\n",
    "    acc_col = accuracy_score(y_cat_test[col], pred_col)\n",
    "    print(f\"{col}: Accuracy={acc_col:.4f}\")\n"
   ]
  },
  {
   "cell_type": "code",
   "execution_count": 29,
   "id": "b13122db-472f-4d4f-8d5b-7028515592ac",
   "metadata": {},
   "outputs": [
    {
     "name": "stdout",
     "output_type": "stream",
     "text": [
      "Models are SAVED.\n"
     ]
    }
   ],
   "source": [
    "import joblib\n",
    "\n",
    "joblib.dump(xgb_reg, \"xgb_numeric_model.pkl\")\n",
    "joblib.dump(xgb_clf, \"xgb_categorical_model.pkl\")\n",
    "print(\"Models are SAVED.\")\n"
   ]
  },
  {
   "cell_type": "code",
   "execution_count": 30,
   "id": "3ab65721-a71a-4ca4-b0e7-756be13a3a47",
   "metadata": {},
   "outputs": [
    {
     "name": "stdout",
     "output_type": "stream",
     "text": [
      "\n",
      "Mean Average Precision (MAP) : 0.3299\n"
     ]
    }
   ],
   "source": [
    "from sklearn.metrics import average_precision_score\n",
    "\n",
    "if y_cat_pred.shape[1] == 1:\n",
    "    y_true_bin = pd.get_dummies(y_cat_test)\n",
    "    y_pred_bin = pd.get_dummies(pd.DataFrame(y_cat_pred, columns=y_cat_test.columns))\n",
    "else:\n",
    "    y_true_bin = y_cat_test\n",
    "    y_pred_bin = pd.DataFrame(y_cat_pred, columns=y_cat_test.columns)\n",
    "\n",
    "map_score = average_precision_score(y_true_bin, y_pred_bin)\n",
    "print(f\"\\nMean Average Precision (MAP) : {map_score:.4f}\")\n"
   ]
  },
  {
   "cell_type": "code",
   "execution_count": 32,
   "id": "c0b4d453-f602-4351-baea-4e4060bedb4a",
   "metadata": {},
   "outputs": [
    {
     "data": {
      "image/png": "[encoded data removed]",
      "text/plain": [
       "<Figure size 600x400 with 1 Axes>"
      ]
     },
     "metadata": {},
     "output_type": "display_data"
    }
   ],
   "source": [
    "import matplotlib.pyplot as plt\n",
    "import seaborn as sns\n",
    "for i, col in enumerate(y_num_test.columns):\n",
    "    pred_col = y_num_pred[:, i] if y_num_pred.shape[1] > 1 else y_num_pred.ravel()\n",
    "    df_compare = pd.DataFrame({\n",
    "        \"Actual\": y_num_test[col].values,\n",
    "        \"Predicted\": pred_col\n",
    "    })\n",
    "    plt.figure(figsize=(6,4))\n",
    "    sns.scatterplot(x=\"Actual\", y=\"Predicted\", data=df_compare)\n",
    "    plt.title(f\"{col} - Actual vs Predicted\")\n",
    "    plt.xlabel(\"Actual\")\n",
    "    plt.ylabel(\"Predicted\")\n",
    "    plt.plot([df_compare[\"Actual\"].min(), df_compare[\"Actual\"].max()],\n",
    "             [df_compare[\"Actual\"].min(), df_compare[\"Actual\"].max()],\n",
    "             color='red', linestyle='--')  # ideal line\n",
    "    plt.show()\n"
   ]
  },
  {
   "cell_type": "code",
   "execution_count": 33,
   "id": "3147623a",
   "metadata": {},
   "outputs": [
    {
     "data": {
      "image/png": "[encoded data removed]",
      "text/plain": [
       "<Figure size 640x480 with 2 Axes>"
      ]
     },
     "metadata": {},
     "output_type": "display_data"
    }
   ],
   "source": [
    "from sklearn.metrics import confusion_matrix, ConfusionMatrixDisplay\n",
    "\n",
    "for i, col in enumerate(y_cat_test.columns):\n",
    "    pred_col = y_cat_pred[:, i] if y_cat_pred.shape[1] > 1 else y_cat_pred.ravel()\n",
    "    cm = confusion_matrix(y_cat_test[col], pred_col)\n",
    "    disp = ConfusionMatrixDisplay(cm, display_labels=cat_target_encoders[col].classes_)\n",
    "    disp.plot(cmap=plt.cm.Blues)\n",
    "    plt.title(f\"{col} - Confusion Matrix\")\n",
    "    plt.show()"
   ]
  }
 ],
 "metadata": {
  "kernelspec": {
   "display_name": "venv",
   "language": "python",
   "name": "python3"
  },
  "language_info": {
   "codemirror_mode": {
    "name": "ipython",
    "version": 3
   },
   "file_extension": ".py",
   "mimetype": "text/x-python",
   "name": "python",
   "nbconvert_exporter": "python",
   "pygments_lexer": "ipython3",
   "version": "3.13.2"
  }
 },
 "nbformat": 4,
 "nbformat_minor": 5
}
